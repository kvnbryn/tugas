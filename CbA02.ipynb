{
 "cells": [
  {
   "cell_type": "code",
   "execution_count": null,
   "metadata": {
    "deletable": false,
    "editable": false,
    "nbgrader": {
     "cell_type": "code",
     "checksum": "ffb95eedfe12ac4f9cfab68b2c58adfc",
     "grade": false,
     "grade_id": "load_grading_libraries",
     "locked": true,
     "schema_version": 3,
     "solution": false,
     "task": false
    }
   },
   "outputs": [],
   "source": [
    "### Required libraries for grading.\n",
    "### No need for students to run this cell.\n",
    "library(testthat)\n",
    "library(digest)\n",
    "library(stringr)\n",
    "library(magick)"
   ]
  },
  {
   "cell_type": "markdown",
   "metadata": {
    "deletable": false,
    "editable": false,
    "nbgrader": {
     "cell_type": "markdown",
     "checksum": "692cd1ecb81ddae003692f2e2cdc81ef",
     "grade": false,
     "grade_id": "sec_introduction",
     "locked": true,
     "schema_version": 3,
     "solution": false,
     "task": false
    }
   },
   "source": [
    "# 1. Introduction\n",
    "\n",
    "As you have learned how to organize and visualize data, in the first part of this assignment, you are asked to repeat the steps in  [Organizing and Visualizing Data](https://sel.unsrat.ac.id/mod/lesson/view.php?id=93663) with a single dataset. In the second part, you need to elaborate the techniques with two datasets within a single table and/or plot."
   ]
  },
  {
   "cell_type": "code",
   "execution_count": null,
   "metadata": {
    "deletable": false,
    "editable": false,
    "nbgrader": {
     "cell_type": "code",
     "checksum": "daca808a34ab501994c33eaf7a391add",
     "grade": false,
     "grade_id": "ir_image",
     "locked": true,
     "schema_version": 3,
     "solution": false,
     "task": false
    }
   },
   "outputs": [],
   "source": [
    "# Libraries for displaying the plot from file\n",
    "library(png)\n",
    "library(IRdisplay)"
   ]
  },
  {
   "cell_type": "markdown",
   "metadata": {
    "deletable": false,
    "editable": false,
    "nbgrader": {
     "cell_type": "markdown",
     "checksum": "97903016fc8ea4b8f50e0f102c5ac046",
     "grade": false,
     "grade_id": "sec_single_dataset",
     "locked": true,
     "schema_version": 3,
     "solution": false,
     "task": false
    }
   },
   "source": [
    "# 2. Single Dataset\n",
    "\n",
    "For the first part, you will use the `IFC6510` dataset that, if you downloaded the assignment archive correctly, should be available within the same directory as this worksheet, and the `IFC6503-A-2016`. These are students' achievements data from two courses.\n",
    "\n",
    "In the first part, load the `IFC6510` dataset, store it in the `ifc6510` variable, and adjust the columns as needed."
   ]
  },
  {
   "cell_type": "code",
   "execution_count": null,
   "metadata": {
    "deletable": false,
    "nbgrader": {
     "cell_type": "code",
     "checksum": "efb35a8e725071dbbc6da7d696b84e93",
     "grade": false,
     "grade_id": "load_dataset_ifc6510",
     "locked": false,
     "schema_version": 3,
     "solution": true,
     "task": false
    }
   },
   "outputs": [],
   "source": [
    "# Load the IFC6510.csv file, and assign it to the ifc6510 variable\n",
    "# then, make some proper adjustments as needed\n",
    "\n",
    "# replace with your solution code\n",
    "str(ifc6510)"
   ]
  },
  {
   "cell_type": "code",
   "execution_count": null,
   "metadata": {
    "deletable": false,
    "editable": false,
    "nbgrader": {
     "cell_type": "code",
     "checksum": "2d308a7c03449b419da700d2d330e0b2",
     "grade": true,
     "grade_id": "load_dataset_ifc6510_nb",
     "locked": true,
     "points": 3,
     "schema_version": 3,
     "solution": false,
     "task": false
    }
   },
   "outputs": [],
   "source": [
    "### This cell is provided for testing purpose.\n",
    "### Do not try to modify this cell.\n"
   ]
  },
  {
   "cell_type": "markdown",
   "metadata": {
    "deletable": false,
    "editable": false,
    "nbgrader": {
     "cell_type": "markdown",
     "checksum": "ad56749297f63cbcb2946e66e482a906",
     "grade": false,
     "grade_id": "subsec_org_cat",
     "locked": true,
     "schema_version": 3,
     "solution": false,
     "task": false
    }
   },
   "source": [
    "## 2.1 Qualitative Data\n",
    "\n",
    "### 2.1.1 Organizing Qualitative Data\n",
    "The `grade` column stores the letter grades of the students of both years. Build a frequency distribution table and a percentage table of the letter grades, then assign to `ifc6510_grade_freq` and `ifc6510_grade_pct`, respectively."
   ]
  },
  {
   "cell_type": "code",
   "execution_count": null,
   "metadata": {
    "deletable": false,
    "nbgrader": {
     "cell_type": "code",
     "checksum": "5a4d7dfd8d34c3f14178e5a3b3f5ae0f",
     "grade": false,
     "grade_id": "ifc6510_grades",
     "locked": false,
     "schema_version": 3,
     "solution": true,
     "task": false
    }
   },
   "outputs": [],
   "source": [
    "# replace with your solution code\n",
    "ifc6510_grade_freq\n",
    "ifc6510_grade_pct"
   ]
  },
  {
   "cell_type": "code",
   "execution_count": null,
   "metadata": {
    "deletable": false,
    "editable": false,
    "nbgrader": {
     "cell_type": "code",
     "checksum": "f9e98eaabc82a42f787a068956cc553c",
     "grade": true,
     "grade_id": "ifc6510_grade_freq_nb",
     "locked": true,
     "points": 1,
     "schema_version": 3,
     "solution": false,
     "task": false
    }
   },
   "outputs": [],
   "source": [
    "### This cell is provided for testing purpose.\n",
    "### Do not try to modify this cell.\n"
   ]
  },
  {
   "cell_type": "code",
   "execution_count": null,
   "metadata": {
    "deletable": false,
    "editable": false,
    "nbgrader": {
     "cell_type": "code",
     "checksum": "8025ae188cb986bc8af4ed78a0ba36ce",
     "grade": true,
     "grade_id": "ifc6510_grade_pct",
     "locked": true,
     "points": 1,
     "schema_version": 3,
     "solution": false,
     "task": false
    }
   },
   "outputs": [],
   "source": [
    "### This cell is provided for testing purpose.\n",
    "### Do not try to modify this cell.\n"
   ]
  },
  {
   "attachments": {
    "Untitled.png": {
     "image/png": "[encoded data removed]"
    }
   },
   "cell_type": "markdown",
   "metadata": {
    "deletable": false,
    "editable": false,
    "nbgrader": {
     "cell_type": "markdown",
     "checksum": "456e26db88fc09e91ea6cdb8fba72108",
     "grade": false,
     "grade_id": "subsec_vis_cat",
     "locked": true,
     "schema_version": 3,
     "solution": false,
     "task": false
    }
   },
   "source": [
    "### 2.1.2 Visualizing Qualitative Data\n",
    "\n",
    "Based on the tables, build:\n",
    "1. A bar chart of the grades frequency. Use \"Grade\" and \"Frequency\" as the labels for the x and y axes, respectively. Save the plot as `ifc6510_grade_bp.png`. The bar chart is a standard one and should look as follows\n",
    "![Untitled.png](attachment:Untitled.png)\n",
    "\n",
    "2. A pie chart, showing the percentage of each grade. This pie chart should be stored as a file `ifc6510_grade_pct.png`. As described earlier, plot a standard pie chart where the colors are automatically assigned by R."
   ]
  },
  {
   "cell_type": "code",
   "execution_count": null,
   "metadata": {
    "deletable": false,
    "nbgrader": {
     "cell_type": "code",
     "checksum": "1514d2aa0266156b4d71aa5a240c5872",
     "grade": false,
     "grade_id": "ifc6510_grade_bp",
     "locked": false,
     "schema_version": 3,
     "solution": true,
     "task": false
    }
   },
   "outputs": [],
   "source": [
    "png(\"ifc6510_grade_bp.png\")\n",
    "# replace with your solution code\n",
    "dev.off()\n",
    "display_png(file = \"ifc6510_grade_bp.png\")"
   ]
  },
  {
   "cell_type": "code",
   "execution_count": null,
   "metadata": {
    "deletable": false,
    "editable": false,
    "nbgrader": {
     "cell_type": "code",
     "checksum": "4f29fe5f022e0657edf8772e2ccca8ef",
     "grade": true,
     "grade_id": "ifc6510_grade_bp_nb",
     "locked": true,
     "points": 2,
     "schema_version": 3,
     "solution": false,
     "task": false
    }
   },
   "outputs": [],
   "source": [
    "### This cell is provided for testing purpose.\n",
    "### Do not try to modify this cell.\n"
   ]
  },
  {
   "cell_type": "code",
   "execution_count": null,
   "metadata": {
    "deletable": false,
    "nbgrader": {
     "cell_type": "code",
     "checksum": "e8b1718e21104855f6c2669adaefef86",
     "grade": false,
     "grade_id": "ifc6510_grade_pie",
     "locked": false,
     "schema_version": 3,
     "solution": true,
     "task": false
    }
   },
   "outputs": [],
   "source": [
    "png(\"ifc6510_grade_pct.png\")\n",
    "# replace with your solution code\n",
    "dev.off()\n",
    "\n",
    "display_png(file = \"ifc6510_grade_pct.png\")"
   ]
  },
  {
   "cell_type": "code",
   "execution_count": null,
   "metadata": {
    "deletable": false,
    "editable": false,
    "nbgrader": {
     "cell_type": "code",
     "checksum": "8f17f3dbb4472252ca7a5e04f668b0aa",
     "grade": true,
     "grade_id": "ifc6510_grade_pie_nb",
     "locked": true,
     "points": 2,
     "schema_version": 3,
     "solution": false,
     "task": false
    }
   },
   "outputs": [],
   "source": [
    "### This cell is provided for testing purpose.\n",
    "### Do not try to modify this cell.\n"
   ]
  },
  {
   "attachments": {
    "Untitled-2.png": {
     "image/png": "[encoded data removed]"
    },
    "Untitled.png": {
     "image/png": "[encoded data removed]"
    }
   },
   "cell_type": "markdown",
   "metadata": {
    "deletable": false,
    "editable": false,
    "nbgrader": {
     "cell_type": "markdown",
     "checksum": "547639bc1de1510e03d3daa5e39f3b2a",
     "grade": false,
     "grade_id": "subsec_quantitative_data_ifc6510",
     "locked": true,
     "schema_version": 3,
     "solution": false,
     "task": false
    }
   },
   "source": [
    "## 2.2 Quantitative Data\n",
    "\n",
    "Now shift our attention the the quantitative data. Take the final scores in percent and build:\n",
    "1. A histogram, that is stored as `ifc6510_final_pct_histogram.png`\n",
    "![Untitled.png](attachment:Untitled.png)\n",
    "2. A Cummulative Frequency Distribution (CFD) table with width equals 5, assigned to the `ifc6510_final_pct_dist` variable.\n",
    "3. An ogive, stored as `ifc6510_final_pct_ogive.png`. It should look similar to the following\n",
    "![Untitled-2.png](attachment:Untitled-2.png)"
   ]
  },
  {
   "cell_type": "code",
   "execution_count": null,
   "metadata": {
    "deletable": false,
    "nbgrader": {
     "cell_type": "code",
     "checksum": "69a96445215a689fcb98855cd2d4f663",
     "grade": false,
     "grade_id": "ifc6510_final_pct_histogram",
     "locked": false,
     "schema_version": 3,
     "solution": true,
     "task": false
    }
   },
   "outputs": [],
   "source": [
    "png(\"ifc6510_final_pct_histogram.png\")\n",
    "# replace with your solution code\n",
    "dev.off()\n",
    "display_png(file = \"ifc6510_final_pct_histogram.png\")"
   ]
  },
  {
   "cell_type": "code",
   "execution_count": null,
   "metadata": {
    "deletable": false,
    "editable": false,
    "nbgrader": {
     "cell_type": "code",
     "checksum": "f20c046fbf1118b5aa124f72c8458406",
     "grade": true,
     "grade_id": "tik1071_final_pct_histogram-autograder_nb",
     "locked": true,
     "points": 2,
     "schema_version": 3,
     "solution": false,
     "task": false
    }
   },
   "outputs": [],
   "source": [
    "### This cell is provided for testing purpose.\n",
    "### Do not try to modify this cell.\n"
   ]
  },
  {
   "cell_type": "code",
   "execution_count": null,
   "metadata": {
    "deletable": false,
    "nbgrader": {
     "cell_type": "code",
     "checksum": "28fedb0e0009f6b1fdf965f395fc6009",
     "grade": false,
     "grade_id": "ifc6510_final_pct_dist",
     "locked": false,
     "schema_version": 3,
     "solution": true,
     "task": false
    }
   },
   "outputs": [],
   "source": [
    "# Frequency distribution table of the final score percentange\n",
    "# The table should be assigned to the ifc6510_final_pct_dist variable\n",
    "# The width of each class is 5\n",
    "\n",
    "# replace with your solution code\n",
    "\n",
    "ifc6510_final_pct_dist"
   ]
  },
  {
   "cell_type": "code",
   "execution_count": null,
   "metadata": {
    "deletable": false,
    "editable": false,
    "nbgrader": {
     "cell_type": "code",
     "checksum": "e32bf7121764be0582ea656a78f562c3",
     "grade": true,
     "grade_id": "ifc6510_final_pct_dist_nb",
     "locked": true,
     "points": 3,
     "schema_version": 3,
     "solution": false,
     "task": false
    }
   },
   "outputs": [],
   "source": [
    "### This cell is provided for testing purpose.\n",
    "### Do not try to modify this cell.\n"
   ]
  },
  {
   "cell_type": "code",
   "execution_count": null,
   "metadata": {
    "deletable": false,
    "nbgrader": {
     "cell_type": "code",
     "checksum": "b35cae58cc0d3da29bfe7317e46f90ff",
     "grade": false,
     "grade_id": "ifc6510_final_pct_ogive",
     "locked": false,
     "schema_version": 3,
     "solution": true,
     "task": false
    }
   },
   "outputs": [],
   "source": [
    "# An ogive of the CFD\n",
    "# This ogive should be stored as ifc6510_final_pct_ogive.png\n",
    "\n",
    "png(\"ifc6510_final_pct_ogive.png\")\n",
    "# replace with your solution code\n",
    "dev.off()\n",
    "\n",
    "display_png(file = \"ifc6510_final_pct_ogive.png\")"
   ]
  },
  {
   "cell_type": "code",
   "execution_count": null,
   "metadata": {
    "deletable": false,
    "editable": false,
    "nbgrader": {
     "cell_type": "code",
     "checksum": "061f355085aeb1b32a4d7c7ef35fb80c",
     "grade": true,
     "grade_id": "ifc6510_final_pct_ogive_nb",
     "locked": true,
     "points": 4,
     "schema_version": 3,
     "solution": false,
     "task": false
    }
   },
   "outputs": [],
   "source": [
    "### This cell is provided for testing purpose.\n",
    "### Do not try to modify this cell.\n"
   ]
  },
  {
   "cell_type": "markdown",
   "metadata": {
    "deletable": false,
    "editable": false,
    "nbgrader": {
     "cell_type": "markdown",
     "checksum": "ddb98f07e3c1f0e923651a340a3c66ab",
     "grade": false,
     "grade_id": "sec_multidataset",
     "locked": true,
     "schema_version": 3,
     "solution": false,
     "task": false
    }
   },
   "source": [
    "# 3. Multi-dataset\n",
    "\n",
    "The second part will use a combination of the `IFC6503-A-2016`and `IFC6510` datasets. The `IFC6510` dataset has been loaded previously, but the `IFC6503-A-2016` dataset has not been loaded. Read then assign the `IFC6503-A-2016` dataset to a variable, `ifc6503a`. Do not forget to make adjustments if necessary. Use the `ifc6510` variable as reference."
   ]
  },
  {
   "cell_type": "code",
   "execution_count": null,
   "metadata": {
    "deletable": false,
    "nbgrader": {
     "cell_type": "code",
     "checksum": "24feaae1811f2bf3d9e50d49d40ee968",
     "grade": false,
     "grade_id": "ifc6503_read_adjust",
     "locked": false,
     "schema_version": 3,
     "solution": true,
     "task": false
    }
   },
   "outputs": [],
   "source": [
    "# Read the IFC6503-A-2016.csv\n",
    "# assign its content to ifc6503a variable\n",
    "# make proper adjustment\n",
    "\n",
    "# replace with your solution code\n",
    "str(ifc6503a)"
   ]
  },
  {
   "cell_type": "code",
   "execution_count": null,
   "metadata": {
    "deletable": false,
    "editable": false,
    "nbgrader": {
     "cell_type": "code",
     "checksum": "256aeead126c7ee0580557608a16620a",
     "grade": true,
     "grade_id": "ifc6503_read_adjust_nb",
     "locked": true,
     "points": 3,
     "schema_version": 3,
     "solution": false,
     "task": false
    }
   },
   "outputs": [],
   "source": [
    "### This cell is provided for testing purpose.\n",
    "### Do not try to modify this cell.\n"
   ]
  },
  {
   "attachments": {
    "Untitled-3.png": {
     "image/png": "[encoded data removed]"
    }
   },
   "cell_type": "markdown",
   "metadata": {
    "deletable": false,
    "editable": false,
    "nbgrader": {
     "cell_type": "markdown",
     "checksum": "d1054cf3aefcfe4d05a80b392ab9f200",
     "grade": false,
     "grade_id": "subsec_grade_freq_multi",
     "locked": true,
     "schema_version": 3,
     "solution": false,
     "task": false
    }
   },
   "source": [
    "## 3.1 Grades Frequency\n",
    "\n",
    "Plot the frequencies of grades in both courses on a single barplot. Store the barplot as `grade-freq-merged-bar.png`. The correct plot should be seen as follow\n",
    "![Untitled-3.png](attachment:Untitled-3.png)\n",
    "\n",
    "Hint:\n",
    "1. The IFC6503-A course first, then IFC6510.\n",
    "2. Use `rosybrown1` and `lightskyblue1` as colors for IFC6503-A and IFC6510, respectively.\n",
    "3. The inset of the legend is `c(.01, 0)`.\n",
    "4. Legend is not added by an individual function. It is added by employing `barplot()` parameter instead.\n",
    "5. Use the `text()` function to add label annotation above each bar.\n",
    "6. The vertical limit should be set to 110% of the highest frequency."
   ]
  },
  {
   "cell_type": "code",
   "execution_count": null,
   "metadata": {
    "deletable": false,
    "nbgrader": {
     "cell_type": "code",
     "checksum": "aa077b8ca015a5eec60766d5e5ebf178",
     "grade": false,
     "grade_id": "grade-freq-merged-bar",
     "locked": false,
     "schema_version": 3,
     "solution": true,
     "task": false
    }
   },
   "outputs": [],
   "source": [
    "# Barplot showing the frequency distribution of grades in each course\n",
    "\n",
    "png(\"grade-freq-merged-bar.png\")\n",
    "\n",
    "# replace with your solution code\n",
    "dev.off()\n",
    "display_png(file = \"grade-freq-merged-bar.png\")"
   ]
  },
  {
   "cell_type": "code",
   "execution_count": null,
   "metadata": {
    "deletable": false,
    "editable": false,
    "nbgrader": {
     "cell_type": "code",
     "checksum": "7d93899a7f0410bef522b0485f9ba129",
     "grade": true,
     "grade_id": "grade-freq-merged-bar_nb",
     "locked": true,
     "points": 6,
     "schema_version": 3,
     "solution": false,
     "task": false
    }
   },
   "outputs": [],
   "source": [
    "### This cell is provided for testing purpose.\n",
    "### Do not try to modify this cell.\n"
   ]
  },
  {
   "attachments": {
    "Untitled-2.png": {
     "image/png": "[encoded data removed]"
    }
   },
   "cell_type": "markdown",
   "metadata": {
    "deletable": false,
    "editable": false,
    "nbgrader": {
     "cell_type": "markdown",
     "checksum": "3a1658ae84a0e6af7e1db094e59eadaa",
     "grade": false,
     "grade_id": "subsec_hist_merged",
     "locked": true,
     "schema_version": 3,
     "solution": false,
     "task": false
    }
   },
   "source": [
    "## 3.2 Histogram of Combined Scores\n",
    "\n",
    "Plot the final scores (in percent) distributions of both courses on a single histogram. Store the plot name as `score-hist-merge.png`.\n",
    "\n",
    "![Untitled-2.png](attachment:Untitled-2.png)\n",
    "Hints:\n",
    "1. Use the `rgb()` function for coloring. It is `rgb(1, 0, 0, 0.2)` and `rgb(0, 0, 1, 0.2)` for IFC603-A and IFC6510, respectively.\n",
    "2. The width of each bar is 5."
   ]
  },
  {
   "cell_type": "code",
   "execution_count": null,
   "metadata": {
    "deletable": false,
    "nbgrader": {
     "cell_type": "code",
     "checksum": "6f8f799980d036b3b410556f6bd12211",
     "grade": false,
     "grade_id": "score_hist_merge",
     "locked": false,
     "schema_version": 3,
     "solution": true,
     "task": false
    }
   },
   "outputs": [],
   "source": [
    "png(\"score-hist-merge.png\")\n",
    "\n",
    "# replace with your solution code\n",
    "\n",
    "dev.off()\n",
    "display_png(file = \"score-hist-merge.png\")"
   ]
  },
  {
   "cell_type": "code",
   "execution_count": null,
   "metadata": {
    "deletable": false,
    "editable": false,
    "nbgrader": {
     "cell_type": "code",
     "checksum": "1190c635e4cef760cf7c8f0c2b36d707",
     "grade": true,
     "grade_id": "score_hist_merge_nb",
     "locked": true,
     "points": 6,
     "schema_version": 3,
     "solution": false,
     "task": false
    }
   },
   "outputs": [],
   "source": [
    "### This cell is provided for testing purpose.\n",
    "### Do not try to modify this cell.\n"
   ]
  },
  {
   "attachments": {
    "Untitled.png": {
     "image/png": "[encoded data removed]"
    }
   },
   "cell_type": "markdown",
   "metadata": {
    "deletable": false,
    "editable": false,
    "nbgrader": {
     "cell_type": "markdown",
     "checksum": "3ea4ea3204451851d8a12f1e673905c5",
     "grade": false,
     "grade_id": "subsec_ogive_merged",
     "locked": true,
     "schema_version": 3,
     "solution": false,
     "task": false
    }
   },
   "source": [
    "## 3.3 Ogive of Scores from Multiple Courses\n",
    "\n",
    "Similar to the histogram, plot an ogive of the final scores (in percent) of each courses in a single frame. The color for each course already defined in the following cell. The plot should be stored as `ogive-score-merge.png`. The expected result is\n",
    "\n",
    "![Untitled.png](attachment:Untitled.png)\n",
    "\n",
    "Hints:\n",
    "1. Plot the points (dots) first. To add the plot of the second class, use the `points()` function.\n",
    "2. For the shapes of the dots, use `pch = 15` for IFC6503-A and `pch = 16` for the IFC6510.\n",
    "3. For the line plot, the IFC6503-A is plotted with the default line type while the IFC6510 is plotted with `lty = 2`.\n",
    "4. The y-axis spans from 0 to 110% of the maximum frequency.\n",
    "\n",
    "The code for the legend is provided."
   ]
  },
  {
   "cell_type": "code",
   "execution_count": null,
   "metadata": {
    "deletable": false,
    "nbgrader": {
     "cell_type": "code",
     "checksum": "726c0a80829c3d8dea76dbb204999308",
     "grade": false,
     "grade_id": "ogive-score-merge",
     "locked": false,
     "schema_version": 3,
     "solution": true,
     "task": false
    }
   },
   "outputs": [],
   "source": [
    "png(\"ogive-score-merge.png\")\n",
    "\n",
    "ifc6503a.color <- \"firebrick4\"\n",
    "ifc6510.color <- \"darkblue\"\n",
    "\n",
    "# replace with your solution code\n",
    "\n",
    "legend(\n",
    "  x = \"topleft\",\n",
    "  legend = c(\n",
    "    \"IFC6503-A\",\n",
    "    \"IFC6510\"\n",
    "  ),\n",
    "  col = c(ifc6503a.color, ifc6510.color),\n",
    "  lty = c(1, 2),\n",
    "  pch = c(15, 16),\n",
    "  inset = c(.01,.01),\n",
    "  bty = \"n\",\n",
    "  title = \"Course\"\n",
    ")\n",
    "\n",
    "dev.off()\n",
    "display_png(file = \"ogive-score-merge.png\")"
   ]
  },
  {
   "cell_type": "code",
   "execution_count": null,
   "metadata": {
    "deletable": false,
    "editable": false,
    "nbgrader": {
     "cell_type": "code",
     "checksum": "c0318d8e363b0f0cd12653507c4cb77c",
     "grade": true,
     "grade_id": "ogive-score-merge_nb",
     "locked": true,
     "points": 7,
     "schema_version": 3,
     "solution": false,
     "task": false
    }
   },
   "outputs": [],
   "source": [
    "### This cell is provided for testing purpose.\n",
    "### Do not try to modify this cell.\n"
   ]
  },
  {
   "cell_type": "code",
   "execution_count": null,
   "metadata": {
    "deletable": false,
    "editable": false,
    "nbgrader": {
     "cell_type": "code",
     "checksum": "e51d493fe2f18d8417515589194867c7",
     "grade": false,
     "grade_id": "cleaning",
     "locked": true,
     "schema_version": 3,
     "solution": false,
     "task": false
    }
   },
   "outputs": [],
   "source": [
    "# Clean all plots\n",
    "unlink(\"*.png\")"
   ]
  }
 ],
 "metadata": {
  "kernelspec": {
   "display_name": "R",
   "language": "R",
   "name": "ir"
  },
  "language_info": {
   "codemirror_mode": "r",
   "file_extension": ".r",
   "mimetype": "text/x-r-source",
   "name": "R",
   "pygments_lexer": "r",
   "version": "4.3.3"
  }
 },
 "nbformat": 4,
 "nbformat_minor": 4
}
